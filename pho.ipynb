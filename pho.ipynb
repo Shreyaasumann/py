{
 "cells": [
  {
   "cell_type": "code",
   "execution_count": null,
   "metadata": {},
   "outputs": [],
   "source": [
    "prompt = \"Please, enter the 8 digit account  number: \"\n",
    "current_accts = current_accts[1:]\n",
    "current_accts [-1] = \"valid\"\n",
    "\n",
    "\n",
    "while True: \n",
    "    try:\n",
    "      userinput = current_accts(prompt)\n",
    "      if len(userinput ) > 8:\n",
    "        raise ValueError()\n",
    "      userinput = int(userinput)\n",
    "    except ValueError:\n",
    "     print('The value must be an 8 digit integer. Try again')\n",
    "    else:\n",
    "        break \n",
    "\n",
    "userinput = str(userinput)\n",
    "\n",
    "a =int(userinput[7])+int(userinput[5])+int(userinput[3])+int(userinput[1])\n",
    "b1 = str(int(userinput[6])*20)\n",
    "b2 = str(int(userinput[4])*20)\n",
    "b3 = str(int(userinput[2])*20)\n",
    "b4 = str(int(userinput[0])*20)\n",
    "y = int(b1[0])+int(b1[1])+int(b2[0])+int(b2[1])+int(b3[0])+int(b3[1])+int(b4[0])+int(b4[1])\n",
    "\n",
    "x = (a+y)\n",
    "\n",
    "if x % 10 == 0:\n",
    "   print('The account number you entered is valid!')\n",
    "else:\n",
    "   print('The account number you entered is invalid!')"
   ]
  },
  {
   "cell_type": "code",
   "execution_count": null,
   "metadata": {},
   "outputs": [],
   "source": []
  }
 ],
 "metadata": {
  "kernelspec": {
   "display_name": "Python 3",
   "language": "python",
   "name": "python3"
  }
 },
 "nbformat": 4,
 "nbformat_minor": 2
}
