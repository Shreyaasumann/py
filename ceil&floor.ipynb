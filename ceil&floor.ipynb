{
 "cells": [
  {
   "cell_type": "code",
   "execution_count": 1,
   "metadata": {},
   "outputs": [
    {
     "name": "stdout",
     "output_type": "stream",
     "text": [
      "The ceiling value of 4/3 is  2\n",
      "The ceiling value of 6/3 is  2\n"
     ]
    }
   ],
   "source": [
    "import math \n",
    "  \n",
    "# Driver Code \n",
    "# taking input 1 \n",
    "a = 4; \n",
    "b = 3; \n",
    "val = (a + b - 1) / b; \n",
    "print(\"The ceiling value of 4/3 is \",  \n",
    "                    math.floor(val)); \n",
    "  \n",
    "# example of perfect division \n",
    "# taking input 2 \n",
    "a = 6; \n",
    "b = 3; \n",
    "val = (a + b - 1) / b; \n",
    "print(\"The ceiling value of 6/3 is \",  \n",
    "                    math.floor(val)); \n",
    "  \n",
    "\n",
    "    "
   ]
  },
  {
   "cell_type": "code",
   "execution_count": null,
   "metadata": {},
   "outputs": [],
   "source": []
  }
 ],
 "metadata": {
  "kernelspec": {
   "display_name": "Python 3",
   "language": "python",
   "name": "python3"
  },
  "language_info": {
   "codemirror_mode": {
    "name": "ipython",
    "version": 3
   },
   "file_extension": ".py",
   "mimetype": "text/x-python",
   "name": "python",
   "nbconvert_exporter": "python",
   "pygments_lexer": "ipython3",
   "version": "3.7.4"
  }
 },
 "nbformat": 4,
 "nbformat_minor": 2
}
