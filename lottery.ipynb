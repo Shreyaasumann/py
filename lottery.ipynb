{
 "cells": [
  {
   "cell_type": "code",
   "execution_count": null,
   "metadata": {},
   "outputs": [
    {
     "name": "stdout",
     "output_type": "stream",
     "text": [
      "------------------------------ LOTTERY MENU ------------------------------\n",
      "1. [Play Pick-3]\n",
      "2. Exit\n",
      "---------------------------------------------------------------------------\n"
     ]
    }
   ],
   "source": [
    "import random\n",
    "\n",
    "menu_check = True\n",
    "\n",
    "# 'checker', compares userNums and winningNums to see if they have won or lost\n",
    "def checker(userNums, winningNums):\n",
    "\n",
    "    if userNums == winningNums:\n",
    "        print (\"\\nCongratulations! You Win $100!\\n\")\n",
    "        print (\"Your numbers: \", userNums)\n",
    "        print (\"The winning lottery numbers are: \", winningNums, \"\\n\")\n",
    "    else:\n",
    "\n",
    "        print (\"\\nSorry, you lose...\\n\")\n",
    "        print (\"Your numbers: \", userNums)\n",
    "        print (\"The winning lottery numbers are: \", winningNums, \"\\n\")\n",
    "\n",
    "# 'getUserNums', gets user numbers and puts into a sorted list    \n",
    "def getUserNums():\n",
    "    userNums = []\n",
    "\n",
    "    for x in range(3):\n",
    "        nums = int(input(\"Pick a number 0 through 9: \"))\n",
    "        if 0 <= nums <= 9:\n",
    "            userNums.append(nums)\n",
    "        else:\n",
    "            input(\"Error! Invalid input. Press any key to continue...\")\n",
    "            nums = int(input(\"Pick a number 0 through 9: \"))\n",
    "            userNums.append(nums)\n",
    "\n",
    "    return sorted(userNums)\n",
    "\n",
    "# 'getWinningNums', creates a sorted list with random nums ranging from 0-9 with a range of 3 values\n",
    "def getWinningNums():\n",
    "    return sorted(random.sample(range(0,10), 3)) \n",
    "\n",
    "# 'menu', creates the main menu to choose game or exit program\n",
    "def menu():\n",
    "    print (30 * \"-\", \"LOTTERY MENU\", 30 * \"-\")\n",
    "    print (\"1. [Play Pick-3]\")\n",
    "    print (\"2. Exit\")\n",
    "    print (75 * \"-\")\n",
    "\n",
    "# 'main', calls the other functions\n",
    "def main():\n",
    "    userNums = getUserNums()\n",
    "    winningNums = getWinningNums() \n",
    "    checker(userNums, winningNums)\n",
    "\n",
    "#         \n",
    "while menu_check:\n",
    "    menu()\n",
    "    choice = input(\"\\nEnter your choice[1-2]: \")\n",
    "\n",
    "    if choice == '1':\n",
    "        print (23 * \"-\")\n",
    "        print (\"[Play Pick-3] selected!\")\n",
    "        print (23 * \"-\")\n",
    "        menu_check = False\n",
    "        main()\n",
    "\n",
    "    elif choice == '2':\n",
    "        print (\"\\nThanks for playing!\\n\")\n",
    "        menu_check = False\n",
    "    else:\n",
    "        input(\"Error! Invalid input. Press any key to continue...\\n\")"
   ]
  },
  {
   "cell_type": "code",
   "execution_count": null,
   "metadata": {},
   "outputs": [],
   "source": []
  }
 ],
 "metadata": {
  "kernelspec": {
   "display_name": "Python 3",
   "language": "python",
   "name": "python3"
  },
  "language_info": {
   "codemirror_mode": {
    "name": "ipython",
    "version": 3
   },
   "file_extension": ".py",
   "mimetype": "text/x-python",
   "name": "python",
   "nbconvert_exporter": "python",
   "pygments_lexer": "ipython3",
   "version": "3.7.4"
  }
 },
 "nbformat": 4,
 "nbformat_minor": 2
}
