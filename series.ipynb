{
 "cells": [
  {
   "cell_type": "code",
   "execution_count": 4,
   "metadata": {},
   "outputs": [
    {
     "ename": "IndentationError",
     "evalue": "unexpected indent (<ipython-input-4-ebb62420fa21>, line 2)",
     "output_type": "error",
     "traceback": [
      "\u001b[0;36m  File \u001b[0;32m\"<ipython-input-4-ebb62420fa21>\"\u001b[0;36m, line \u001b[0;32m2\u001b[0m\n\u001b[0;31m    listOfNum = [23, 45, 21, 45, 2, 5, 11, 50, 1, 67]\u001b[0m\n\u001b[0m    ^\u001b[0m\n\u001b[0;31mIndentationError\u001b[0m\u001b[0;31m:\u001b[0m unexpected indent\n"
     ]
    }
   ],
   "source": [
    " # List of numbers\n",
    "    listOfNum = [23, 45, 21, 45, 2, 5, 11, 50, 1, 67]\n",
    "    \n",
    "    \n",
    "    # print the List\n",
    "    print(\"Initial List\", listOfNum,  sep='\\n')\n",
    "        \n",
    "    \n",
    "    print(\"Sorting the List in ascending Order\")\n",
    "    \n",
    "    # Create a sorted copy of existing list\n",
    "    newList = sorted(listOfNum)\n",
    "     # print the List\n",
    "    print(\"New List\", newList,  sep='\\n')\n",
    "     # print the List\n",
    "    print(\"Existing List\", listOfNum,  sep='\\n')\n",
    "    \n",
    "    # Sort the List in Place\n",
    "    listOfNum.sort()\n",
    " \n",
    "    # print the List\n",
    "    print(\"List Sorted in Ascending Order\", listOfNum,  sep='\\n')\n",
    " \n",
    "    print(\"Sorting the List in Descending Order\")\n",
    "    \n",
    "    # Create a sorted copy of existing list\n",
    "    newList = sorted(listOfNum, reverse=True)\n",
    "     # print the List\n",
    "    print(\"New List\", newList,  sep='\\n')\n",
    "     # print the List\n",
    "    print(\"Existing List\", listOfNum,  sep='\\n')\n",
    "    \n",
    "    # Sort the List in Place (Descending Order)\n",
    "    listOfNum.sort(reverse=True)\n",
    " \n",
    "    # print the List\n",
    "    print(\"List Sorted in Descending Order\", listOfNum,  sep='\\n')\n",
    " \n",
    " \n",
    "if __name__ == \"__main__\":\n",
    "    main()"
   ]
  },
  {
   "cell_type": "code",
   "execution_count": null,
   "metadata": {},
   "outputs": [],
   "source": []
  }
 ],
 "metadata": {
  "kernelspec": {
   "display_name": "Python 3",
   "language": "python",
   "name": "python3"
  },
  "language_info": {
   "codemirror_mode": {
    "name": "ipython",
    "version": 3
   },
   "file_extension": ".py",
   "mimetype": "text/x-python",
   "name": "python",
   "nbconvert_exporter": "python",
   "pygments_lexer": "ipython3",
   "version": "3.7.4"
  }
 },
 "nbformat": 4,
 "nbformat_minor": 2
}
